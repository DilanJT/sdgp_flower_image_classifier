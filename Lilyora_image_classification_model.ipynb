{
  "nbformat": 4,
  "nbformat_minor": 0,
  "metadata": {
    "colab": {
      "name": "Lilyora_image_classification_model.ipynb",
      "provenance": [],
      "collapsed_sections": [],
      "mount_file_id": "1JapWlqttozEd9NjM8FMqwILZKfaDMT0z",
      "authorship_tag": "ABX9TyOrez3wb+403kXnHk0XDFMY",
      "include_colab_link": true
    },
    "kernelspec": {
      "name": "python3",
      "display_name": "Python 3"
    },
    "accelerator": "GPU"
  },
  "cells": [
    {
      "cell_type": "markdown",
      "metadata": {
        "id": "view-in-github",
        "colab_type": "text"
      },
      "source": [
        "<a href=\"https://colab.research.google.com/github/DilanJT/sdgp_flower_image_classifier/blob/main/Lilyora_image_classification_model.ipynb\" target=\"_parent\"><img src=\"https://colab.research.google.com/assets/colab-badge.svg\" alt=\"Open In Colab\"/></a>"
      ]
    },
    {
      "cell_type": "code",
      "metadata": {
        "id": "jZccHFZXp9Cg",
        "colab": {
          "base_uri": "https://localhost:8080/"
        },
        "outputId": "58c96bb4-fd1d-4b0a-c40a-c46e1175125c"
      },
      "source": [
        "from google.colab import drive\r\n",
        "drive.mount(\"/content/drive/\")"
      ],
      "execution_count": null,
      "outputs": [
        {
          "output_type": "stream",
          "text": [
            "Drive already mounted at /content/drive/; to attempt to forcibly remount, call drive.mount(\"/content/drive/\", force_remount=True).\n"
          ],
          "name": "stdout"
        }
      ]
    },
    {
      "cell_type": "code",
      "metadata": {
        "id": "MVOwRHgKK64_"
      },
      "source": [
        "dataset_path = \"/content/drive/MyDrive/SDGP_Zestful-Tribu_project_files/dataset/dataset_from_internet/\""
      ],
      "execution_count": null,
      "outputs": []
    },
    {
      "cell_type": "code",
      "metadata": {
        "id": "ubrDVM4HAa3g"
      },
      "source": [
        "!unzip -uq \"/content/drive/MyDrive/SDGP_Zestful-Tribu_project_files/dataset/dataset_from_internet/train.zip\" -d \"/content/drive/MyDrive/SDGP_Zestful-Tribu_project_files/dataset/dataset_from_internet/\""
      ],
      "execution_count": null,
      "outputs": []
    },
    {
      "cell_type": "code",
      "metadata": {
        "id": "6LSS04ZbFyoI"
      },
      "source": [
        "!unzip -uq \"/content/drive/MyDrive/SDGP_Zestful-Tribu_project_files/dataset/dataset_from_internet/validation.zip\" -d \"/content/drive/MyDrive/SDGP_Zestful-Tribu_project_files/dataset/dataset_from_internet/\""
      ],
      "execution_count": null,
      "outputs": []
    },
    {
      "cell_type": "code",
      "metadata": {
        "id": "ZpLZpAb5Gt-_"
      },
      "source": [
        "from __future__ import print_function\r\n",
        "import keras\r\n",
        "from keras.preprocessing.image import ImageDataGenerator\r\n",
        "from keras.models import Sequential\r\n",
        "from keras.layers import Dense,Dropout,Activation,Flatten,BatchNormalization\r\n",
        "from keras.layers import Conv2D,MaxPooling2D\r\n",
        "import os"
      ],
      "execution_count": null,
      "outputs": []
    },
    {
      "cell_type": "code",
      "metadata": {
        "id": "eW3iJB8uGs5C"
      },
      "source": [
        "num_classes = 5\r\n",
        "img_rows,img_cols = 48,48\r\n",
        "batch_size = 12"
      ],
      "execution_count": null,
      "outputs": []
    },
    {
      "cell_type": "code",
      "metadata": {
        "id": "u-4J13BQF7rF"
      },
      "source": [
        "train_data_dir = \"/content/drive/MyDrive/SDGP_Zestful-Tribu_project_files/dataset/dataset_from_internet/train\"\r\n",
        "validation_data_dir = \"/content/drive/MyDrive/SDGP_Zestful-Tribu_project_files/dataset/dataset_from_internet/validation\""
      ],
      "execution_count": null,
      "outputs": []
    },
    {
      "cell_type": "code",
      "metadata": {
        "id": "TlAJKEzOGYpd"
      },
      "source": [
        "#Image generate is used to generate images according to the givn properties for the trainning data\r\n",
        "train_datagen = ImageDataGenerator(\r\n",
        "    rescale=1./255,\r\n",
        "    rotation_range=30, #generates a another image\r\n",
        "    shear_range=0.3, #generates another new image\r\n",
        "    zoom_range=0.3,\r\n",
        "    width_shift_range=0.4,\r\n",
        "    height_shift_range=0.4,\r\n",
        "    horizontal_flip=True,\r\n",
        "    vertical_flip=True\r\n",
        ") "
      ],
      "execution_count": null,
      "outputs": []
    },
    {
      "cell_type": "code",
      "metadata": {
        "id": "YH0LTLOLGelM"
      },
      "source": [
        "#validation data just need rescaling\r\n",
        "#they are used to cross check with the trainned data\r\n",
        "validation_datagen = ImageDataGenerator(rescale=1./255)"
      ],
      "execution_count": null,
      "outputs": []
    },
    {
      "cell_type": "code",
      "metadata": {
        "colab": {
          "base_uri": "https://localhost:8080/"
        },
        "id": "V67FbE24G99m",
        "outputId": "7cfd8ed2-6ec0-4a76-f121-8e245d8e21c0"
      },
      "source": [
        "#preparing the data to train\r\n",
        "#we are shuffling the images so that it will not confuse the model\r\n",
        "train_generator = train_datagen.flow_from_directory(train_data_dir, color_mode=\"grayscale\", target_size=(img_rows, img_cols),\r\n",
        "batch_size=batch_size, class_mode=\"categorical\", shuffle=True)\r\n",
        "\r\n",
        "validation_generator = validation_datagen.flow_from_directory(validation_data_dir, color_mode=\"grayscale\", target_size=(img_rows, img_cols),\r\n",
        "batch_size=batch_size, class_mode=\"categorical\", shuffle=True)"
      ],
      "execution_count": null,
      "outputs": [
        {
          "output_type": "stream",
          "text": [
            "Found 2036 images belonging to 5 classes.\n",
            "Found 614 images belonging to 5 classes.\n"
          ],
          "name": "stdout"
        }
      ]
    },
    {
      "cell_type": "code",
      "metadata": {
        "id": "LgrXUeQ7HA1s"
      },
      "source": [
        "#defining what the model is\r\n",
        "model = Sequential()"
      ],
      "execution_count": null,
      "outputs": []
    },
    {
      "cell_type": "code",
      "metadata": {
        "id": "4sZPl6PHNFTL"
      },
      "source": [
        "#refer - https://medium.com/@RaghavPrabhu/understanding-of-convolutional-neural-network-cnn-deep-learning-99760835f148\r\n",
        "# here we can use many blocks as we want according to the complexity\r\n",
        "\r\n",
        "#Block-1\r\n",
        "#32 is the number of neurons\r\n",
        "model.add(Conv2D(32,(3,3), padding=\"same\", kernel_initializer=\"he_normal\", input_shape=(img_rows, img_cols, 1)))\r\n",
        "model.add(Activation('elu'))\r\n",
        "model.add(BatchNormalization())\r\n",
        "model.add(Conv2D(32,(3,3), padding=\"same\", kernel_initializer=\"he_normal\", input_shape=(img_rows, img_cols, 1)))\r\n",
        "model.add(Activation('elu'))\r\n",
        "model.add(BatchNormalization())\r\n",
        "model.add(MaxPooling2D(pool_size=(2,2)))\r\n",
        "model.add(Dropout(0.2))"
      ],
      "execution_count": null,
      "outputs": []
    },
    {
      "cell_type": "code",
      "metadata": {
        "id": "--kHLSfnNQSj"
      },
      "source": [
        "#Block-2\r\n",
        "#64 is the number of neurons\r\n",
        "model.add(Conv2D(64,(3,3), padding=\"same\", kernel_initializer=\"he_normal\", input_shape=(img_rows, img_cols, 1)))\r\n",
        "model.add(Activation('elu'))\r\n",
        "model.add(BatchNormalization())\r\n",
        "model.add(Conv2D(64,(3,3), padding=\"same\", kernel_initializer=\"he_normal\", input_shape=(img_rows, img_cols, 1)))\r\n",
        "model.add(Activation('elu'))\r\n",
        "model.add(BatchNormalization())\r\n",
        "model.add(MaxPooling2D(pool_size=(2,2)))\r\n",
        "model.add(Dropout(0.2))"
      ],
      "execution_count": null,
      "outputs": []
    },
    {
      "cell_type": "code",
      "metadata": {
        "id": "33FO3E_FNTS6"
      },
      "source": [
        "#Block-3\r\n",
        "#128 is the number of neurons\r\n",
        "model.add(Conv2D(128,(3,3), padding=\"same\", kernel_initializer=\"he_normal\"))\r\n",
        "model.add(Activation('elu'))\r\n",
        "model.add(BatchNormalization())\r\n",
        "model.add(Conv2D(128,(3,3), padding=\"same\", kernel_initializer=\"he_normal\", input_shape=(img_rows, img_cols, 1)))\r\n",
        "model.add(Activation('elu'))\r\n",
        "model.add(BatchNormalization())\r\n",
        "model.add(MaxPooling2D(pool_size=(2,2)))\r\n",
        "model.add(Dropout(0.2))"
      ],
      "execution_count": null,
      "outputs": []
    },
    {
      "cell_type": "code",
      "metadata": {
        "id": "wKnuNj5wNWAD"
      },
      "source": [
        "#Block-4\r\n",
        "#256 is the numner of neurons\r\n",
        "model.add(Conv2D(256,(3,3), padding=\"same\", kernel_initializer=\"he_normal\"))\r\n",
        "model.add(Activation('elu'))\r\n",
        "model.add(BatchNormalization())\r\n",
        "model.add(Conv2D(256,(3,3), padding=\"same\", kernel_initializer=\"he_normal\", input_shape=(img_rows, img_cols, 1)))\r\n",
        "model.add(Activation('elu'))\r\n",
        "model.add(BatchNormalization())\r\n",
        "model.add(MaxPooling2D(pool_size=(2,2)))\r\n",
        "model.add(Dropout(0.2))"
      ],
      "execution_count": null,
      "outputs": []
    },
    {
      "cell_type": "code",
      "metadata": {
        "id": "osJA-dGbNYyb"
      },
      "source": [
        "#Block-5\r\n",
        "model.add(Flatten())\r\n",
        "model.add(Dense(64, kernel_initializer=\"he_normal\"))\r\n",
        "model.add(Activation('elu'))\r\n",
        "model.add(BatchNormalization())\r\n",
        "model.add(Dropout(0.5))\r\n"
      ],
      "execution_count": null,
      "outputs": []
    },
    {
      "cell_type": "code",
      "metadata": {
        "id": "nPMeuHUlNcMC"
      },
      "source": [
        "#Block-6\r\n",
        "model.add(Dense(num_classes, kernel_initializer=\"he_normal\"))\r\n",
        "model.add(Activation('elu'))\r\n",
        "model.add(BatchNormalization())\r\n",
        "model.add(Dropout(0.5))"
      ],
      "execution_count": null,
      "outputs": []
    },
    {
      "cell_type": "code",
      "metadata": {
        "id": "UKL_U81kNesr"
      },
      "source": [
        "#Block-7\r\n",
        "#This is the last output layer \r\n",
        "model.add(Dense(num_classes, kernel_initializer=\"he_normal\"))\r\n",
        "model.add(Activation('softmax'))\r\n"
      ],
      "execution_count": null,
      "outputs": []
    },
    {
      "cell_type": "code",
      "metadata": {
        "colab": {
          "base_uri": "https://localhost:8080/"
        },
        "id": "l2NVJD_-NhXL",
        "outputId": "506553dc-2c1d-47b7-8463-2c34295c3c89"
      },
      "source": [
        "print(model.summary())"
      ],
      "execution_count": null,
      "outputs": [
        {
          "output_type": "stream",
          "text": [
            "Model: \"sequential\"\n",
            "_________________________________________________________________\n",
            "Layer (type)                 Output Shape              Param #   \n",
            "=================================================================\n",
            "conv2d (Conv2D)              (None, 48, 48, 32)        320       \n",
            "_________________________________________________________________\n",
            "activation (Activation)      (None, 48, 48, 32)        0         \n",
            "_________________________________________________________________\n",
            "batch_normalization (BatchNo (None, 48, 48, 32)        128       \n",
            "_________________________________________________________________\n",
            "conv2d_1 (Conv2D)            (None, 48, 48, 32)        9248      \n",
            "_________________________________________________________________\n",
            "activation_1 (Activation)    (None, 48, 48, 32)        0         \n",
            "_________________________________________________________________\n",
            "batch_normalization_1 (Batch (None, 48, 48, 32)        128       \n",
            "_________________________________________________________________\n",
            "max_pooling2d (MaxPooling2D) (None, 24, 24, 32)        0         \n",
            "_________________________________________________________________\n",
            "dropout (Dropout)            (None, 24, 24, 32)        0         \n",
            "_________________________________________________________________\n",
            "conv2d_2 (Conv2D)            (None, 24, 24, 64)        18496     \n",
            "_________________________________________________________________\n",
            "activation_2 (Activation)    (None, 24, 24, 64)        0         \n",
            "_________________________________________________________________\n",
            "batch_normalization_2 (Batch (None, 24, 24, 64)        256       \n",
            "_________________________________________________________________\n",
            "conv2d_3 (Conv2D)            (None, 24, 24, 64)        36928     \n",
            "_________________________________________________________________\n",
            "activation_3 (Activation)    (None, 24, 24, 64)        0         \n",
            "_________________________________________________________________\n",
            "batch_normalization_3 (Batch (None, 24, 24, 64)        256       \n",
            "_________________________________________________________________\n",
            "max_pooling2d_1 (MaxPooling2 (None, 12, 12, 64)        0         \n",
            "_________________________________________________________________\n",
            "dropout_1 (Dropout)          (None, 12, 12, 64)        0         \n",
            "_________________________________________________________________\n",
            "conv2d_4 (Conv2D)            (None, 12, 12, 128)       73856     \n",
            "_________________________________________________________________\n",
            "activation_4 (Activation)    (None, 12, 12, 128)       0         \n",
            "_________________________________________________________________\n",
            "batch_normalization_4 (Batch (None, 12, 12, 128)       512       \n",
            "_________________________________________________________________\n",
            "conv2d_5 (Conv2D)            (None, 12, 12, 128)       147584    \n",
            "_________________________________________________________________\n",
            "activation_5 (Activation)    (None, 12, 12, 128)       0         \n",
            "_________________________________________________________________\n",
            "batch_normalization_5 (Batch (None, 12, 12, 128)       512       \n",
            "_________________________________________________________________\n",
            "max_pooling2d_2 (MaxPooling2 (None, 6, 6, 128)         0         \n",
            "_________________________________________________________________\n",
            "dropout_2 (Dropout)          (None, 6, 6, 128)         0         \n",
            "_________________________________________________________________\n",
            "conv2d_6 (Conv2D)            (None, 6, 6, 256)         295168    \n",
            "_________________________________________________________________\n",
            "activation_6 (Activation)    (None, 6, 6, 256)         0         \n",
            "_________________________________________________________________\n",
            "batch_normalization_6 (Batch (None, 6, 6, 256)         1024      \n",
            "_________________________________________________________________\n",
            "conv2d_7 (Conv2D)            (None, 6, 6, 256)         590080    \n",
            "_________________________________________________________________\n",
            "activation_7 (Activation)    (None, 6, 6, 256)         0         \n",
            "_________________________________________________________________\n",
            "batch_normalization_7 (Batch (None, 6, 6, 256)         1024      \n",
            "_________________________________________________________________\n",
            "max_pooling2d_3 (MaxPooling2 (None, 3, 3, 256)         0         \n",
            "_________________________________________________________________\n",
            "dropout_3 (Dropout)          (None, 3, 3, 256)         0         \n",
            "_________________________________________________________________\n",
            "flatten (Flatten)            (None, 2304)              0         \n",
            "_________________________________________________________________\n",
            "dense (Dense)                (None, 64)                147520    \n",
            "_________________________________________________________________\n",
            "activation_8 (Activation)    (None, 64)                0         \n",
            "_________________________________________________________________\n",
            "batch_normalization_8 (Batch (None, 64)                256       \n",
            "_________________________________________________________________\n",
            "dropout_4 (Dropout)          (None, 64)                0         \n",
            "_________________________________________________________________\n",
            "dense_1 (Dense)              (None, 5)                 325       \n",
            "_________________________________________________________________\n",
            "activation_9 (Activation)    (None, 5)                 0         \n",
            "_________________________________________________________________\n",
            "batch_normalization_9 (Batch (None, 5)                 20        \n",
            "_________________________________________________________________\n",
            "dropout_5 (Dropout)          (None, 5)                 0         \n",
            "_________________________________________________________________\n",
            "dense_2 (Dense)              (None, 5)                 30        \n",
            "_________________________________________________________________\n",
            "activation_10 (Activation)   (None, 5)                 0         \n",
            "=================================================================\n",
            "Total params: 1,323,671\n",
            "Trainable params: 1,321,613\n",
            "Non-trainable params: 2,058\n",
            "_________________________________________________________________\n",
            "None\n"
          ],
          "name": "stdout"
        }
      ]
    },
    {
      "cell_type": "code",
      "metadata": {
        "id": "JakTTqIiNliC"
      },
      "source": [
        "from keras.optimizers import RMSprop, SGD, Adam\r\n",
        "from keras.callbacks import ModelCheckpoint, EarlyStopping, ReduceLROnPlateau"
      ],
      "execution_count": null,
      "outputs": []
    },
    {
      "cell_type": "code",
      "metadata": {
        "id": "fC7YwOxoN6mD"
      },
      "source": [
        "earlystop = EarlyStopping(monitor=\"val_loss\",\r\n",
        "                          min_delta = 0,\r\n",
        "                          patience=3,\r\n",
        "                          verbose=1,\r\n",
        "                          restore_best_weights=True)"
      ],
      "execution_count": null,
      "outputs": []
    },
    {
      "cell_type": "code",
      "metadata": {
        "id": "0ia9DQx5QBUW"
      },
      "source": [
        "reduce_lr = ReduceLROnPlateau(monitor=\"val_lose\",\r\n",
        "                              factor=0.2,\r\n",
        "                              patience=3,\r\n",
        "                              verbose=1,\r\n",
        "                              min_delta=0.0001)"
      ],
      "execution_count": null,
      "outputs": []
    },
    {
      "cell_type": "code",
      "metadata": {
        "id": "ja_OXxlGQnLy"
      },
      "source": [
        "callbacks = [reduce_lr]"
      ],
      "execution_count": null,
      "outputs": []
    },
    {
      "cell_type": "code",
      "metadata": {
        "id": "GA5uOipyQwET"
      },
      "source": [
        "model.compile(\r\n",
        "    loss=\"categorical_crossentropy\",\r\n",
        "    optimizer = Adam(lr = 0.0001),\r\n",
        "    metrics=[\"accuracy\"]\r\n",
        ")"
      ],
      "execution_count": null,
      "outputs": []
    },
    {
      "cell_type": "code",
      "metadata": {
        "id": "4UbcXI5mQ_wb"
      },
      "source": [
        "nb_train_samples = 2036\r\n",
        "nb_validation_samples = 614\r\n",
        "epochs = 25"
      ],
      "execution_count": null,
      "outputs": []
    },
    {
      "cell_type": "code",
      "metadata": {
        "colab": {
          "base_uri": "https://localhost:8080/"
        },
        "id": "wLdyOlpGRWsa",
        "outputId": "f88075c0-51c6-47ff-a0a8-effd914b47f3"
      },
      "source": [
        "history = model.fit_generator(\r\n",
        "    train_generator,\r\n",
        "    steps_per_epoch=nb_train_samples//batch_size,\r\n",
        "    epochs=epochs,\r\n",
        "    callbacks=callbacks,\r\n",
        "    validation_data=validation_generator,\r\n",
        "    validation_steps=nb_validation_samples//batch_size\r\n",
        ")"
      ],
      "execution_count": null,
      "outputs": [
        {
          "output_type": "stream",
          "text": [
            "Epoch 1/25\n",
            "  2/169 [..............................] - ETA: 9s - loss: 1.3634 - accuracy: 0.3333"
          ],
          "name": "stdout"
        },
        {
          "output_type": "stream",
          "text": [
            "/usr/local/lib/python3.6/dist-packages/tensorflow/python/keras/engine/training.py:1844: UserWarning: `Model.fit_generator` is deprecated and will be removed in a future version. Please use `Model.fit`, which supports generators.\n",
            "  warnings.warn('`Model.fit_generator` is deprecated and '\n"
          ],
          "name": "stderr"
        },
        {
          "output_type": "stream",
          "text": [
            "169/169 [==============================] - 22s 132ms/step - loss: 1.6046 - accuracy: 0.2500 - val_loss: 1.3433 - val_accuracy: 0.4248\n",
            "WARNING:tensorflow:Learning rate reduction is conditioned on metric `val_lose` which is not available. Available metrics are: loss,accuracy,val_loss,val_accuracy,lr\n",
            "Epoch 2/25\n",
            "169/169 [==============================] - 22s 130ms/step - loss: 1.5704 - accuracy: 0.2816 - val_loss: 1.3711 - val_accuracy: 0.4542\n",
            "WARNING:tensorflow:Learning rate reduction is conditioned on metric `val_lose` which is not available. Available metrics are: loss,accuracy,val_loss,val_accuracy,lr\n",
            "Epoch 3/25\n",
            "169/169 [==============================] - 22s 130ms/step - loss: 1.5339 - accuracy: 0.3004 - val_loss: 1.2945 - val_accuracy: 0.4804\n",
            "WARNING:tensorflow:Learning rate reduction is conditioned on metric `val_lose` which is not available. Available metrics are: loss,accuracy,val_loss,val_accuracy,lr\n",
            "Epoch 4/25\n",
            "169/169 [==============================] - 22s 129ms/step - loss: 1.5325 - accuracy: 0.2989 - val_loss: 1.3051 - val_accuracy: 0.4673\n",
            "WARNING:tensorflow:Learning rate reduction is conditioned on metric `val_lose` which is not available. Available metrics are: loss,accuracy,val_loss,val_accuracy,lr\n",
            "Epoch 5/25\n",
            "169/169 [==============================] - 22s 128ms/step - loss: 1.5074 - accuracy: 0.3261 - val_loss: 1.2660 - val_accuracy: 0.4690\n",
            "WARNING:tensorflow:Learning rate reduction is conditioned on metric `val_lose` which is not available. Available metrics are: loss,accuracy,val_loss,val_accuracy,lr\n",
            "Epoch 6/25\n",
            "169/169 [==============================] - 22s 129ms/step - loss: 1.4804 - accuracy: 0.3355 - val_loss: 1.2146 - val_accuracy: 0.5033\n",
            "WARNING:tensorflow:Learning rate reduction is conditioned on metric `val_lose` which is not available. Available metrics are: loss,accuracy,val_loss,val_accuracy,lr\n",
            "Epoch 7/25\n",
            "169/169 [==============================] - 22s 130ms/step - loss: 1.4836 - accuracy: 0.3310 - val_loss: 1.2838 - val_accuracy: 0.4559\n",
            "WARNING:tensorflow:Learning rate reduction is conditioned on metric `val_lose` which is not available. Available metrics are: loss,accuracy,val_loss,val_accuracy,lr\n",
            "Epoch 8/25\n",
            "169/169 [==============================] - 22s 130ms/step - loss: 1.4567 - accuracy: 0.3409 - val_loss: 1.2058 - val_accuracy: 0.4837\n",
            "WARNING:tensorflow:Learning rate reduction is conditioned on metric `val_lose` which is not available. Available metrics are: loss,accuracy,val_loss,val_accuracy,lr\n",
            "Epoch 9/25\n",
            "169/169 [==============================] - 22s 129ms/step - loss: 1.4417 - accuracy: 0.3641 - val_loss: 1.2017 - val_accuracy: 0.5016\n",
            "WARNING:tensorflow:Learning rate reduction is conditioned on metric `val_lose` which is not available. Available metrics are: loss,accuracy,val_loss,val_accuracy,lr\n",
            "Epoch 10/25\n",
            "169/169 [==============================] - 22s 129ms/step - loss: 1.4203 - accuracy: 0.3681 - val_loss: 1.2524 - val_accuracy: 0.5033\n",
            "WARNING:tensorflow:Learning rate reduction is conditioned on metric `val_lose` which is not available. Available metrics are: loss,accuracy,val_loss,val_accuracy,lr\n",
            "Epoch 11/25\n",
            "169/169 [==============================] - 22s 133ms/step - loss: 1.3836 - accuracy: 0.4002 - val_loss: 1.1839 - val_accuracy: 0.5033\n",
            "WARNING:tensorflow:Learning rate reduction is conditioned on metric `val_lose` which is not available. Available metrics are: loss,accuracy,val_loss,val_accuracy,lr\n",
            "Epoch 12/25\n",
            "169/169 [==============================] - 22s 130ms/step - loss: 1.3899 - accuracy: 0.4135 - val_loss: 1.2105 - val_accuracy: 0.5049\n",
            "WARNING:tensorflow:Learning rate reduction is conditioned on metric `val_lose` which is not available. Available metrics are: loss,accuracy,val_loss,val_accuracy,lr\n",
            "Epoch 13/25\n",
            "169/169 [==============================] - 22s 132ms/step - loss: 1.3685 - accuracy: 0.4175 - val_loss: 1.1764 - val_accuracy: 0.5245\n",
            "WARNING:tensorflow:Learning rate reduction is conditioned on metric `val_lose` which is not available. Available metrics are: loss,accuracy,val_loss,val_accuracy,lr\n",
            "Epoch 14/25\n",
            "169/169 [==============================] - 22s 131ms/step - loss: 1.3511 - accuracy: 0.4249 - val_loss: 1.2112 - val_accuracy: 0.5114\n",
            "WARNING:tensorflow:Learning rate reduction is conditioned on metric `val_lose` which is not available. Available metrics are: loss,accuracy,val_loss,val_accuracy,lr\n",
            "Epoch 15/25\n",
            "169/169 [==============================] - 22s 130ms/step - loss: 1.3482 - accuracy: 0.4185 - val_loss: 1.1500 - val_accuracy: 0.5294\n",
            "WARNING:tensorflow:Learning rate reduction is conditioned on metric `val_lose` which is not available. Available metrics are: loss,accuracy,val_loss,val_accuracy,lr\n",
            "Epoch 16/25\n",
            "169/169 [==============================] - 22s 129ms/step - loss: 1.3150 - accuracy: 0.4536 - val_loss: 1.1616 - val_accuracy: 0.5278\n",
            "WARNING:tensorflow:Learning rate reduction is conditioned on metric `val_lose` which is not available. Available metrics are: loss,accuracy,val_loss,val_accuracy,lr\n",
            "Epoch 17/25\n",
            "169/169 [==============================] - 22s 130ms/step - loss: 1.3388 - accuracy: 0.4313 - val_loss: 1.2706 - val_accuracy: 0.4804\n",
            "WARNING:tensorflow:Learning rate reduction is conditioned on metric `val_lose` which is not available. Available metrics are: loss,accuracy,val_loss,val_accuracy,lr\n",
            "Epoch 18/25\n",
            "169/169 [==============================] - 22s 130ms/step - loss: 1.3289 - accuracy: 0.4516 - val_loss: 1.1595 - val_accuracy: 0.5147\n",
            "WARNING:tensorflow:Learning rate reduction is conditioned on metric `val_lose` which is not available. Available metrics are: loss,accuracy,val_loss,val_accuracy,lr\n",
            "Epoch 19/25\n",
            "169/169 [==============================] - 22s 127ms/step - loss: 1.2992 - accuracy: 0.4496 - val_loss: 1.2120 - val_accuracy: 0.5016\n",
            "WARNING:tensorflow:Learning rate reduction is conditioned on metric `val_lose` which is not available. Available metrics are: loss,accuracy,val_loss,val_accuracy,lr\n",
            "Epoch 20/25\n",
            "169/169 [==============================] - 22s 129ms/step - loss: 1.2939 - accuracy: 0.4684 - val_loss: 1.1689 - val_accuracy: 0.5082\n",
            "WARNING:tensorflow:Learning rate reduction is conditioned on metric `val_lose` which is not available. Available metrics are: loss,accuracy,val_loss,val_accuracy,lr\n",
            "Epoch 21/25\n",
            "169/169 [==============================] - 22s 130ms/step - loss: 1.2921 - accuracy: 0.4511 - val_loss: 1.1094 - val_accuracy: 0.5147\n",
            "WARNING:tensorflow:Learning rate reduction is conditioned on metric `val_lose` which is not available. Available metrics are: loss,accuracy,val_loss,val_accuracy,lr\n",
            "Epoch 22/25\n",
            "169/169 [==============================] - 22s 128ms/step - loss: 1.2659 - accuracy: 0.4600 - val_loss: 1.1689 - val_accuracy: 0.5065\n",
            "WARNING:tensorflow:Learning rate reduction is conditioned on metric `val_lose` which is not available. Available metrics are: loss,accuracy,val_loss,val_accuracy,lr\n",
            "Epoch 23/25\n",
            "169/169 [==============================] - 22s 128ms/step - loss: 1.2733 - accuracy: 0.4496 - val_loss: 1.1991 - val_accuracy: 0.4853\n",
            "WARNING:tensorflow:Learning rate reduction is conditioned on metric `val_lose` which is not available. Available metrics are: loss,accuracy,val_loss,val_accuracy,lr\n",
            "Epoch 24/25\n",
            "169/169 [==============================] - 22s 129ms/step - loss: 1.2471 - accuracy: 0.4560 - val_loss: 1.1030 - val_accuracy: 0.5441\n",
            "WARNING:tensorflow:Learning rate reduction is conditioned on metric `val_lose` which is not available. Available metrics are: loss,accuracy,val_loss,val_accuracy,lr\n",
            "Epoch 25/25\n",
            "169/169 [==============================] - 22s 131ms/step - loss: 1.2532 - accuracy: 0.4749 - val_loss: 1.0791 - val_accuracy: 0.5212\n",
            "WARNING:tensorflow:Learning rate reduction is conditioned on metric `val_lose` which is not available. Available metrics are: loss,accuracy,val_loss,val_accuracy,lr\n"
          ],
          "name": "stdout"
        }
      ]
    },
    {
      "cell_type": "code",
      "metadata": {
        "id": "1D952FlOR7Md"
      },
      "source": [
        ""
      ],
      "execution_count": null,
      "outputs": []
    }
  ]
}